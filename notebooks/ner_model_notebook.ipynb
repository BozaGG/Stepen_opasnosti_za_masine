{
 "cells": [
  {
   "cell_type": "code",
   "execution_count": 1,
   "metadata": {},
   "outputs": [],
   "source": [
    "import pandas as pd\n",
    "import numpy as np\n",
    "import cyrtranslit \n",
    "\n",
    "data = pd.read_excel(\"D:\\Programing projects\\Master_rad\\data\\Podaci_za_sve_masine.xlsx\")"
   ]
  },
  {
   "cell_type": "code",
   "execution_count": 2,
   "metadata": {},
   "outputs": [
    {
     "data": {
      "text/html": [
       "<div>\n",
       "<style scoped>\n",
       "    .dataframe tbody tr th:only-of-type {\n",
       "        vertical-align: middle;\n",
       "    }\n",
       "\n",
       "    .dataframe tbody tr th {\n",
       "        vertical-align: top;\n",
       "    }\n",
       "\n",
       "    .dataframe thead th {\n",
       "        text-align: right;\n",
       "    }\n",
       "</style>\n",
       "<table border=\"1\" class=\"dataframe\">\n",
       "  <thead>\n",
       "    <tr style=\"text-align: right;\">\n",
       "      <th></th>\n",
       "      <th>Rbr</th>\n",
       "      <th>Dan</th>\n",
       "      <th>Datum</th>\n",
       "      <th>Masina</th>\n",
       "      <th>MOTORNI SAT</th>\n",
       "      <th>RAD</th>\n",
       "      <th>VRSTA MASINE</th>\n",
       "      <th>Vreme</th>\n",
       "      <th>Uzrok</th>\n",
       "      <th>Tehnoloski</th>\n",
       "      <th>Elektro/struja</th>\n",
       "      <th>Mehanicki</th>\n",
       "      <th>Zloupotreba</th>\n",
       "      <th>Organizacioni</th>\n",
       "      <th>Eksterni uticaj</th>\n",
       "      <th>Nor stepen opasnosti</th>\n",
       "    </tr>\n",
       "  </thead>\n",
       "  <tbody>\n",
       "    <tr>\n",
       "      <th>0</th>\n",
       "      <td>10562</td>\n",
       "      <td>NaN</td>\n",
       "      <td>NaN</td>\n",
       "      <td>NaN</td>\n",
       "      <td>NaN</td>\n",
       "      <td>reduktor mehanizma dizanja/lom zuba</td>\n",
       "      <td>KRAN</td>\n",
       "      <td>600</td>\n",
       "      <td>reduktor mehanizma dizanja/lom zuba</td>\n",
       "      <td>NaN</td>\n",
       "      <td>NaN</td>\n",
       "      <td>600.0</td>\n",
       "      <td>600.0</td>\n",
       "      <td>NaN</td>\n",
       "      <td>NaN</td>\n",
       "      <td>5</td>\n",
       "    </tr>\n",
       "    <tr>\n",
       "      <th>1</th>\n",
       "      <td>10563</td>\n",
       "      <td>NaN</td>\n",
       "      <td>NaN</td>\n",
       "      <td>NaN</td>\n",
       "      <td>NaN</td>\n",
       "      <td>reduktor mehanizma dizanja/lom zuba</td>\n",
       "      <td>KRAN</td>\n",
       "      <td>600</td>\n",
       "      <td>reduktor mehanizma dizanja/lom zuba</td>\n",
       "      <td>NaN</td>\n",
       "      <td>NaN</td>\n",
       "      <td>600.0</td>\n",
       "      <td>600.0</td>\n",
       "      <td>NaN</td>\n",
       "      <td>NaN</td>\n",
       "      <td>5</td>\n",
       "    </tr>\n",
       "    <tr>\n",
       "      <th>2</th>\n",
       "      <td>10564</td>\n",
       "      <td>NaN</td>\n",
       "      <td>NaN</td>\n",
       "      <td>NaN</td>\n",
       "      <td>NaN</td>\n",
       "      <td>reduktor mehanizma dizanja/lom zuba</td>\n",
       "      <td>KRAN</td>\n",
       "      <td>600</td>\n",
       "      <td>reduktor mehanizma dizanja/lom zuba</td>\n",
       "      <td>NaN</td>\n",
       "      <td>NaN</td>\n",
       "      <td>600.0</td>\n",
       "      <td>600.0</td>\n",
       "      <td>NaN</td>\n",
       "      <td>NaN</td>\n",
       "      <td>5</td>\n",
       "    </tr>\n",
       "    <tr>\n",
       "      <th>3</th>\n",
       "      <td>10565</td>\n",
       "      <td>NaN</td>\n",
       "      <td>NaN</td>\n",
       "      <td>NaN</td>\n",
       "      <td>NaN</td>\n",
       "      <td>reduktor mehanizma dizanja/lom zuba</td>\n",
       "      <td>KRAN</td>\n",
       "      <td>600</td>\n",
       "      <td>reduktor mehanizma dizanja/lom zuba</td>\n",
       "      <td>NaN</td>\n",
       "      <td>NaN</td>\n",
       "      <td>600.0</td>\n",
       "      <td>600.0</td>\n",
       "      <td>NaN</td>\n",
       "      <td>NaN</td>\n",
       "      <td>5</td>\n",
       "    </tr>\n",
       "    <tr>\n",
       "      <th>4</th>\n",
       "      <td>10566</td>\n",
       "      <td>NaN</td>\n",
       "      <td>NaN</td>\n",
       "      <td>NaN</td>\n",
       "      <td>NaN</td>\n",
       "      <td>reduktor mehanizma dizanja/lom zuba</td>\n",
       "      <td>KRAN</td>\n",
       "      <td>600</td>\n",
       "      <td>reduktor mehanizma dizanja/lom zuba</td>\n",
       "      <td>NaN</td>\n",
       "      <td>NaN</td>\n",
       "      <td>600.0</td>\n",
       "      <td>600.0</td>\n",
       "      <td>NaN</td>\n",
       "      <td>NaN</td>\n",
       "      <td>5</td>\n",
       "    </tr>\n",
       "  </tbody>\n",
       "</table>\n",
       "</div>"
      ],
      "text/plain": [
       "     Rbr  Dan Datum Masina MOTORNI SAT                                  RAD  \\\n",
       "0  10562  NaN   NaN    NaN         NaN  reduktor mehanizma dizanja/lom zuba   \n",
       "1  10563  NaN   NaN    NaN         NaN  reduktor mehanizma dizanja/lom zuba   \n",
       "2  10564  NaN   NaN    NaN         NaN  reduktor mehanizma dizanja/lom zuba   \n",
       "3  10565  NaN   NaN    NaN         NaN  reduktor mehanizma dizanja/lom zuba   \n",
       "4  10566  NaN   NaN    NaN         NaN  reduktor mehanizma dizanja/lom zuba   \n",
       "\n",
       "  VRSTA MASINE  Vreme                                Uzrok  Tehnoloski  \\\n",
       "0         KRAN    600  reduktor mehanizma dizanja/lom zuba         NaN   \n",
       "1         KRAN    600  reduktor mehanizma dizanja/lom zuba         NaN   \n",
       "2         KRAN    600  reduktor mehanizma dizanja/lom zuba         NaN   \n",
       "3         KRAN    600  reduktor mehanizma dizanja/lom zuba         NaN   \n",
       "4         KRAN    600  reduktor mehanizma dizanja/lom zuba         NaN   \n",
       "\n",
       "   Elektro/struja  Mehanicki  Zloupotreba  Organizacioni  Eksterni uticaj  \\\n",
       "0             NaN      600.0        600.0            NaN              NaN   \n",
       "1             NaN      600.0        600.0            NaN              NaN   \n",
       "2             NaN      600.0        600.0            NaN              NaN   \n",
       "3             NaN      600.0        600.0            NaN              NaN   \n",
       "4             NaN      600.0        600.0            NaN              NaN   \n",
       "\n",
       "   Nor stepen opasnosti  \n",
       "0                     5  \n",
       "1                     5  \n",
       "2                     5  \n",
       "3                     5  \n",
       "4                     5  "
      ]
     },
     "execution_count": 2,
     "metadata": {},
     "output_type": "execute_result"
    }
   ],
   "source": [
    "data.head()"
   ]
  },
  {
   "cell_type": "code",
   "execution_count": 3,
   "metadata": {},
   "outputs": [],
   "source": [
    "df = data[['RAD', 'Uzrok']]"
   ]
  },
  {
   "cell_type": "code",
   "execution_count": 4,
   "metadata": {},
   "outputs": [
    {
     "name": "stdout",
     "output_type": "stream",
     "text": [
      " RAD has missing 0\n",
      " Uzrok has missing 4197\n"
     ]
    }
   ],
   "source": [
    "for column in df.columns:\n",
    "    print(f' {column} has missing {sum(df[column].isna())}')"
   ]
  },
  {
   "cell_type": "code",
   "execution_count": 5,
   "metadata": {},
   "outputs": [],
   "source": [
    "def from_cyr_to_latin(data_frame: pd.DataFrame, column):\n",
    "    return data_frame[column].apply(lambda x: cyrtranslit.to_latin(x) if (type(x)==str) else x)"
   ]
  },
  {
   "cell_type": "code",
   "execution_count": 6,
   "metadata": {},
   "outputs": [
    {
     "name": "stderr",
     "output_type": "stream",
     "text": [
      "C:\\Users\\Luka\\AppData\\Local\\Temp/ipykernel_864/2127116340.py:1: SettingWithCopyWarning: \n",
      "A value is trying to be set on a copy of a slice from a DataFrame.\n",
      "Try using .loc[row_indexer,col_indexer] = value instead\n",
      "\n",
      "See the caveats in the documentation: https://pandas.pydata.org/pandas-docs/stable/user_guide/indexing.html#returning-a-view-versus-a-copy\n",
      "  df['RAD'] = from_cyr_to_latin(df, 'RAD')\n",
      "C:\\Users\\Luka\\AppData\\Local\\Temp/ipykernel_864/2127116340.py:2: SettingWithCopyWarning: \n",
      "A value is trying to be set on a copy of a slice from a DataFrame.\n",
      "Try using .loc[row_indexer,col_indexer] = value instead\n",
      "\n",
      "See the caveats in the documentation: https://pandas.pydata.org/pandas-docs/stable/user_guide/indexing.html#returning-a-view-versus-a-copy\n",
      "  df['Uzrok'] = from_cyr_to_latin(df, 'Uzrok')\n"
     ]
    }
   ],
   "source": [
    "df['RAD'] = from_cyr_to_latin(df, 'RAD')\n",
    "df['Uzrok'] = from_cyr_to_latin(df, 'Uzrok')"
   ]
  },
  {
   "cell_type": "code",
   "execution_count": 7,
   "metadata": {},
   "outputs": [
    {
     "name": "stderr",
     "output_type": "stream",
     "text": [
      "C:\\Users\\Luka\\AppData\\Local\\Temp/ipykernel_864/4138496221.py:2: SettingWithCopyWarning: \n",
      "A value is trying to be set on a copy of a slice from a DataFrame.\n",
      "Try using .loc[row_indexer,col_indexer] = value instead\n",
      "\n",
      "See the caveats in the documentation: https://pandas.pydata.org/pandas-docs/stable/user_guide/indexing.html#returning-a-view-versus-a-copy\n",
      "  df[column] = df[column].str.lower()\n",
      "C:\\Users\\Luka\\AppData\\Local\\Temp/ipykernel_864/4138496221.py:3: SettingWithCopyWarning: \n",
      "A value is trying to be set on a copy of a slice from a DataFrame.\n",
      "Try using .loc[row_indexer,col_indexer] = value instead\n",
      "\n",
      "See the caveats in the documentation: https://pandas.pydata.org/pandas-docs/stable/user_guide/indexing.html#returning-a-view-versus-a-copy\n",
      "  df[column] = df[column].apply(lambda x: x.strip() if (type(x)==str) else x)\n"
     ]
    }
   ],
   "source": [
    "for column in df.columns:\n",
    "    df[column] = df[column].str.lower()\n",
    "    df[column] = df[column].apply(lambda x: x.strip() if (type(x)==str) else x)"
   ]
  },
  {
   "cell_type": "code",
   "execution_count": 8,
   "metadata": {},
   "outputs": [
    {
     "data": {
      "text/plain": [
       "(157,)"
      ]
     },
     "execution_count": 8,
     "metadata": {},
     "output_type": "execute_result"
    }
   ],
   "source": [
    "df.Uzrok.unique().shape"
   ]
  },
  {
   "cell_type": "code",
   "execution_count": 9,
   "metadata": {},
   "outputs": [
    {
     "data": {
      "text/plain": [
       "(1571,)"
      ]
     },
     "execution_count": 9,
     "metadata": {},
     "output_type": "execute_result"
    }
   ],
   "source": [
    "df.RAD.unique().shape"
   ]
  },
  {
   "cell_type": "code",
   "execution_count": 10,
   "metadata": {},
   "outputs": [
    {
     "name": "stderr",
     "output_type": "stream",
     "text": [
      "c:\\Users\\Luka\\Anaconda3\\lib\\site-packages\\pandas\\core\\generic.py:6392: SettingWithCopyWarning: \n",
      "A value is trying to be set on a copy of a slice from a DataFrame\n",
      "\n",
      "See the caveats in the documentation: https://pandas.pydata.org/pandas-docs/stable/user_guide/indexing.html#returning-a-view-versus-a-copy\n",
      "  return self._update_inplace(result)\n"
     ]
    }
   ],
   "source": [
    "df.Uzrok.fillna('RAD', inplace = True)"
   ]
  },
  {
   "cell_type": "code",
   "execution_count": 11,
   "metadata": {},
   "outputs": [
    {
     "name": "stdout",
     "output_type": "stream",
     "text": [
      " RAD has missing 0\n",
      " Uzrok has missing 0\n"
     ]
    }
   ],
   "source": [
    "for column in df.columns:\n",
    "    print(f' {column} has missing {sum(df[column].isna())}')"
   ]
  },
  {
   "cell_type": "code",
   "execution_count": 12,
   "metadata": {},
   "outputs": [
    {
     "data": {
      "text/plain": [
       "(157,)"
      ]
     },
     "execution_count": 12,
     "metadata": {},
     "output_type": "execute_result"
    }
   ],
   "source": [
    "sentences = df.RAD.unique()\n",
    "sentences\n",
    "df.Uzrok.unique().shape"
   ]
  },
  {
   "cell_type": "code",
   "execution_count": 13,
   "metadata": {},
   "outputs": [],
   "source": [
    "from sentence_transformers import SentenceTransformer\n",
    "\n",
    "model = SentenceTransformer('paraphrase-multilingual-mpnet-base-v2')\n",
    "\n",
    "sentences_embeddings = model.encode(sentences)"
   ]
  },
  {
   "cell_type": "code",
   "execution_count": 14,
   "metadata": {},
   "outputs": [
    {
     "data": {
      "text/plain": [
       "[array([[ 0.02429377, -0.1618515 , -0.01689526, ...,  0.02581038,\n",
       "         -0.0816184 , -0.0741905 ],\n",
       "        [-0.09757046, -0.11989342, -0.01838072, ...,  0.00884921,\n",
       "         -0.11275939, -0.0218655 ],\n",
       "        [ 0.02557757, -0.06794681, -0.0195236 , ...,  0.0797305 ,\n",
       "         -0.04274921, -0.07629243],\n",
       "        ...,\n",
       "        [ 0.04613087,  0.05550788, -0.01395162, ...,  0.07128673,\n",
       "         -0.04377558, -0.12902145],\n",
       "        [-0.11013741, -0.12888435, -0.02084145, ...,  0.02316191,\n",
       "         -0.13572414, -0.05098673],\n",
       "        [-0.0941066 , -0.08938599, -0.01604381, ..., -0.01187518,\n",
       "         -0.13764396, -0.0150283 ]], dtype=float32),\n",
       " array([[ 0.02429377, -0.1618515 , -0.01689526, ...,  0.02581038,\n",
       "         -0.0816184 , -0.0741905 ],\n",
       "        [-0.09757046, -0.11989342, -0.01838072, ...,  0.00884921,\n",
       "         -0.11275939, -0.0218655 ],\n",
       "        [ 0.02557757, -0.06794681, -0.0195236 , ...,  0.0797305 ,\n",
       "         -0.04274921, -0.07629243],\n",
       "        ...,\n",
       "        [ 0.0461309 ,  0.05550787, -0.01395162, ...,  0.0712867 ,\n",
       "         -0.04377557, -0.12902148],\n",
       "        [-0.11013741, -0.12888435, -0.02084145, ...,  0.02316191,\n",
       "         -0.13572414, -0.05098673],\n",
       "        [-0.0941066 , -0.08938599, -0.01604381, ..., -0.01187518,\n",
       "         -0.13764396, -0.0150283 ]], dtype=float32)]"
      ]
     },
     "execution_count": 14,
     "metadata": {},
     "output_type": "execute_result"
    }
   ],
   "source": [
    "ner_encoding_list = list()\n",
    "for column in df.columns:\n",
    "        ner_encoding_list.append(model.encode(df[column].unique()))\n",
    "\n",
    "ner_encoding_list"
   ]
  },
  {
   "cell_type": "code",
   "execution_count": 15,
   "metadata": {},
   "outputs": [
    {
     "data": {
      "text/plain": [
       "157"
      ]
     },
     "execution_count": 15,
     "metadata": {},
     "output_type": "execute_result"
    }
   ],
   "source": [
    "len(ner_encoding_list[1])"
   ]
  },
  {
   "cell_type": "code",
   "execution_count": 16,
   "metadata": {},
   "outputs": [],
   "source": [
    "user_input = 'dugmici najbitnije elektro kutije krana'\n",
    "evaluating_sentence = model.encode(user_input)"
   ]
  },
  {
   "cell_type": "code",
   "execution_count": 17,
   "metadata": {},
   "outputs": [
    {
     "data": {
      "text/plain": [
       "tensor([[0.4871, 0.6887, 0.4596,  ..., 0.4388, 0.8395, 0.5497]])"
      ]
     },
     "execution_count": 17,
     "metadata": {},
     "output_type": "execute_result"
    }
   ],
   "source": [
    "from sentence_transformers.util import cos_sim\n",
    "\n",
    "similarity = cos_sim(evaluating_sentence, sentences_embeddings)\n",
    "similarity"
   ]
  },
  {
   "cell_type": "code",
   "execution_count": 25,
   "metadata": {},
   "outputs": [
    {
     "data": {
      "text/plain": [
       "'osigurači glavnog elektroormana krana'"
      ]
     },
     "execution_count": 25,
     "metadata": {},
     "output_type": "execute_result"
    }
   ],
   "source": [
    "sentences[similarity.argmax()]"
   ]
  },
  {
   "cell_type": "code",
   "execution_count": 26,
   "metadata": {},
   "outputs": [
    {
     "data": {
      "text/plain": [
       "'osigurači glavnog elektroormana krana'"
      ]
     },
     "execution_count": 26,
     "metadata": {},
     "output_type": "execute_result"
    }
   ],
   "source": [
    "df.RAD.unique()[similarity.argmax()]"
   ]
  },
  {
   "cell_type": "code",
   "execution_count": 18,
   "metadata": {},
   "outputs": [
    {
     "data": {
      "text/plain": [
       "tensor(1569)"
      ]
     },
     "execution_count": 18,
     "metadata": {},
     "output_type": "execute_result"
    }
   ],
   "source": [
    "np.argmax(similarity)"
   ]
  },
  {
   "cell_type": "code",
   "execution_count": 19,
   "metadata": {},
   "outputs": [],
   "source": [
    "id2sentance = {str(i): label for i, label in enumerate(df.RAD.unique())}"
   ]
  },
  {
   "cell_type": "code",
   "execution_count": 20,
   "metadata": {},
   "outputs": [
    {
     "name": "stdout",
     "output_type": "stream",
     "text": [
      "Recenica koju je korisnik uneo: dugmici najbitnije elektro kutije krana,\n",
      " je najbliza recenici: osigurači glavnog elektroormana krana\n"
     ]
    }
   ],
   "source": [
    "most_simular_sentence = id2sentance[str(int(np.argmax(similarity)))]\n",
    "print('Recenica koju je korisnik uneo: {},\\n je najbliza recenici: {}'.format(user_input, most_simular_sentence) )"
   ]
  },
  {
   "cell_type": "code",
   "execution_count": 21,
   "metadata": {},
   "outputs": [
    {
     "data": {
      "text/plain": [
       "array([[ 0.02429377, -0.1618515 , -0.01689526, ...,  0.02581038,\n",
       "        -0.0816184 , -0.0741905 ],\n",
       "       [-0.09757046, -0.11989342, -0.01838072, ...,  0.00884921,\n",
       "        -0.11275939, -0.0218655 ],\n",
       "       [ 0.02557757, -0.06794681, -0.0195236 , ...,  0.0797305 ,\n",
       "        -0.04274921, -0.07629243],\n",
       "       ...,\n",
       "       [ 0.04613087,  0.05550788, -0.01395162, ...,  0.07128673,\n",
       "        -0.04377558, -0.12902145],\n",
       "       [-0.11013741, -0.12888435, -0.02084145, ...,  0.02316191,\n",
       "        -0.13572414, -0.05098673],\n",
       "       [-0.0941066 , -0.08938599, -0.01604381, ..., -0.01187518,\n",
       "        -0.13764396, -0.0150283 ]], dtype=float32)"
      ]
     },
     "execution_count": 21,
     "metadata": {},
     "output_type": "execute_result"
    }
   ],
   "source": [
    "sentences_embeddings"
   ]
  },
  {
   "cell_type": "code",
   "execution_count": null,
   "metadata": {},
   "outputs": [],
   "source": []
  }
 ],
 "metadata": {
  "kernelspec": {
   "display_name": "Python 3.9.7 ('base')",
   "language": "python",
   "name": "python3"
  },
  "language_info": {
   "codemirror_mode": {
    "name": "ipython",
    "version": 3
   },
   "file_extension": ".py",
   "mimetype": "text/x-python",
   "name": "python",
   "nbconvert_exporter": "python",
   "pygments_lexer": "ipython3",
   "version": "3.9.7"
  },
  "orig_nbformat": 4,
  "vscode": {
   "interpreter": {
    "hash": "90845e89dff1bf80115f2850a952cd8e524a4f609a316685a406beb5c4e18457"
   }
  }
 },
 "nbformat": 4,
 "nbformat_minor": 2
}
